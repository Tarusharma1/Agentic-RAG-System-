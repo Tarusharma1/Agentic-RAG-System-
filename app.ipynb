{
 "cells": [
  {
   "cell_type": "code",
   "execution_count": null,
   "id": "a1c1bedd",
   "metadata": {},
   "outputs": [],
   "source": [
    "import operator\n",
    "from typing import List\n",
    "from pydantic import BaseModel , Field\n",
    "from langchain.prompts import PromptTemplate\n",
    "from typing import TypedDict, Annotated, Sequence\n",
    "from langchain_core.messages import BaseMessage\n",
    "from langchain_core.output_parsers import StrOutputParser\n",
    "from langchain_core.prompts import ChatPromptTemplate, PromptTemplate\n",
    "from langchain_core.runnables import RunnablePassthrough\n",
    "from langchain_core.messages import HumanMessage, AIMessage\n",
    "from langgraph.graph import StateGraph,END\n",
    "from langchain_google_genai import ChatGoogleGenerativeAI\n",
    "from dotenv import load_dotenv\n",
    "from langchain_huggingface import HuggingFaceEmbeddings\n",
    "import os\n",
    "load_dotenv()\n",
    "from langchain_community.document_loaders import TextLoader,DirectoryLoader\n",
    "from langchain_community.document_loaders import TextLoader, DirectoryLoader\n",
    "from langchain.text_splitter import RecursiveCharacterTextSplitter\n",
    "from langchain_astradb import AstraDBVectorStore\n",
    "from langchain.output_parsers import PydanticOutputParser\n",
    "from langchain_core.prompts import PromptTemplate, ChatPromptTemplate\n",
    "\n",
    "from langchain_openai import ChatOpenAI"
   ]
  },
  {
   "cell_type": "code",
   "execution_count": 9,
   "metadata": {},
   "outputs": [],
   "source": [
    "ASTRA_DB_API_ENDPOINT = os.getenv(\"ASTRA_DB_API_ENDPOINT\")\n",
    "ASTRA_DB_APPLICATION_TOKEN = os.getenv(\"ASTRA_DB_APPLICATION_TOKEN\")"
   ]
  },
  {
   "cell_type": "code",
   "execution_count": 10,
   "metadata": {},
   "outputs": [],
   "source": [
    "llm = ChatOpenAI(\n",
    "    model=\"gpt-4o-mini\",\n",
    "    temperature=0.1,\n",
    "    max_tokens=1000,\n",
    "    streaming=True,\n",
    "    api_key=os.getenv(\"OPENAI_API_KEY\")\n",
    ")\n",
    "\n",
    "embeddings = HuggingFaceEmbeddings(\n",
    "    model_name=\"BAAI/bge-small-en\")\n"
   ]
  },
  {
   "cell_type": "code",
   "execution_count": null,
   "metadata": {},
   "outputs": [],
   "source": [
    "loader = TextLoader(r'')\n",
    "docs = loader.load()\n",
    "text_splitter = RecursiveCharacterTextSplitter(chunk_size=200, chunk_overlap=50)\n",
    "chunks= text_splitter.split_documents(docs)\n"
   ]
  },
  {
   "cell_type": "code",
   "execution_count": 30,
   "metadata": {},
   "outputs": [],
   "source": [
    "vector_store = AstraDBVectorStore(\n",
    "    collection_name=\"testt\",\n",
    "    embedding=embeddings,\n",
    "    api_endpoint=ASTRA_DB_API_ENDPOINT,\n",
    "    token=ASTRA_DB_APPLICATION_TOKEN,\n",
    "    namespace=\"default_keyspace\",\n",
    "    setup_mode=\"AUTO_DETECT\"\n",
    "    \n",
    ")\n"
   ]
  },
  {
   "cell_type": "code",
   "execution_count": 31,
   "id": "14b0481d",
   "metadata": {},
   "outputs": [
    {
     "data": {
      "text/plain": [
       "['d43ae9eee3744a46bd739bded04e67f4',\n",
       " 'b64316bd753c4aff87d10051b4686820',\n",
       " '9bbbe55f4c8d4164ac0b703d23908529',\n",
       " 'eaa9df66b03549678d2e24d1fc76b45d',\n",
       " 'e7857d41306b475886fe70b894d6bde3',\n",
       " 'ffd0a162a3b7416895e41ba72866cd0b',\n",
       " 'fb835eb1cbec44a2a499f6289d0c65b1',\n",
       " '0577dc42cda84f548a48aaea1e6a6ccd',\n",
       " '1e257a6d7af549909ee5a9847eacaa30',\n",
       " '7631cab949fb45829571dead4a39555e',\n",
       " '3f62a0ea94a347bca8550935d09b8714',\n",
       " 'cd875c6822464635a5f273c917c5eed0',\n",
       " '51ae07204e68421e9ee35481289bea78',\n",
       " '7f093347b73b43e2813c7d1bd628a146',\n",
       " 'ec11d02594164cb394736e8cc7d1ec55',\n",
       " '69582e4904654358a3c3d514de8a8318',\n",
       " '88a35cb4cc8d4e25aa53bfb6ecf192a1',\n",
       " 'bed46017cf164796ae73b9616f449d24',\n",
       " '0585bb851b7047ad9b96c8aafa7b884e',\n",
       " '178b9cb64ba94c23b29023f82acb2743',\n",
       " 'f060cfbb6e5e4600a926806792938090',\n",
       " '617aa2a6be1e49f1b16e9d487b36772a',\n",
       " '8764ef3e238a4e5a9c895b6acf8f94b9',\n",
       " '82706d5cb5db401b8ccca56592ed50c6',\n",
       " '7c0d39a2cb0443508e9857e2f223ef80',\n",
       " '8b46f30f451f4bafa229e9cee1298c24',\n",
       " '3500f547a20c4ce8bccac8425569b62b',\n",
       " '1e89e9e8029e41dd81370e3357562c76',\n",
       " '29ab2a407a2d4efda2eb0f882024c573',\n",
       " '9801943a110b4b38ad2ca6f577705e6b',\n",
       " '7aebd7137a6b4eaaac917210af16a745',\n",
       " 'fa8bc3efbe54410d8c1e79c8281821c3',\n",
       " '4f7c54e5f81246d194b3351b70f957c2',\n",
       " '90a2048901a54a898f6f6437b5bbb47e',\n",
       " '784c0debdf85454bb42906d28c9d2cc4',\n",
       " 'b0e796f566a24709a92946637fd8474d',\n",
       " '1e892c3b79ce496e8883d3800ab25bdb',\n",
       " 'fab851d49d514edf916aa00719ab9c6f',\n",
       " '68ef6ec83c9b4d12839be40c5e581900',\n",
       " '4ef89704065e4cb6be907ace475f4f2f',\n",
       " '5c79bacdd24b4a4a987f7fd01ad85881',\n",
       " 'b468b6b4a1b1478d8d187eb91b2a61e7',\n",
       " '3eadbf16d0524063bcf01cf0ab70f618',\n",
       " 'bfd0dae73db54681b29665bd45a463cc',\n",
       " '122a3584786f4d468707c42b045d9011',\n",
       " '049ac3431fa04040ab392685846e9453',\n",
       " '22cad3d111394313860921c1addfa7e8',\n",
       " 'a3b7ad0d19114ed2abe757c07e7c3b6d',\n",
       " '8b22ab9259e44f1b970591346e575dda',\n",
       " 'efac82dfa1d34837abbb81cb1f44fc22',\n",
       " 'd16d666fbe2140bba6aa3f06c38c82fe',\n",
       " '312ce7db2c6041feb0a8dd8b9ac0f696',\n",
       " 'be29ec3633484d079ee0858d4bd2b42b',\n",
       " '038a415b4b7b4dd2877ffacded0e81a2',\n",
       " '9809ea60dd454978a92f98d32aa1493a',\n",
       " 'dcbe6e23d478442491a4653abded385e',\n",
       " '12d9d40b797b4fca88a69a51d119e6c3',\n",
       " 'd3c5c86bd13a4b39a0a8eb4556b01ebe',\n",
       " '4e4932a9716744589fe88008f786f34a',\n",
       " 'f6341e38efb24a8fa4e09058f703b7f7',\n",
       " '629ff382f4ef4c719f596d403987cc16',\n",
       " '97d92df04c3f4d89bb8a546c12e74ac8',\n",
       " '33f8e475c48f45eeaa043ea9e95a8184',\n",
       " '84876ec3be66427e93a385bb4e4356ac',\n",
       " '9ff2f8dea244448b81f3d65b908c4497',\n",
       " '9d7f52f284634390b5dbe308c529b8c1',\n",
       " '381084def5b2477ebd4463e0bc68ba7b',\n",
       " '92edd47a064842459cd772c769592563',\n",
       " 'e213024ea5aa400c95adb02e13ef79b2',\n",
       " '34df951ca7f54ba8990fbe0e2f51275c',\n",
       " 'b9b30270833249848b688deeb5b9cf80',\n",
       " '76fb3692629740a899a44096df216127',\n",
       " 'cf6810b1b7364059ae11910288d084e7',\n",
       " '366aefd00f7345179845dcb868d5d5f7',\n",
       " '4eeba1e12df643d09b712cffb743d283',\n",
       " '9b5b16f93db849e2a01b1ad156b6f9cf',\n",
       " 'd0bc6f83edbc49ef963620ec39782cbf',\n",
       " 'e4872d7ebac94844bf990e3cd7c1cc09',\n",
       " '49d1f609ed3145e98e64a2a9268fd161',\n",
       " 'e6aebe978b5144f98606256fa2d06ff0',\n",
       " 'fceba3d7a8c946759483ace41ad36977',\n",
       " '716778f9c2204beb85e8a686a077cf33']"
      ]
     },
     "execution_count": 31,
     "metadata": {},
     "output_type": "execute_result"
    }
   ],
   "source": [
    "vector_store.add_documents(chunks)"
   ]
  },
  {
   "cell_type": "code",
   "execution_count": null,
   "id": "746e6b3e",
   "metadata": {},
   "outputs": [],
   "source": [
    "retriever = vector_store.as_retriever(search_type=\"mmr\", search_kwargs={\"k\": 5})\n",
    "retriever.invoke(\"what happen in 9/11\")"
   ]
  },
  {
   "cell_type": "code",
   "execution_count": 34,
   "metadata": {},
   "outputs": [],
   "source": [
    "class AgentState(TypedDict):\n",
    "    messages: Annotated[Sequence[BaseMessage], operator.add]"
   ]
  },
  {
   "cell_type": "code",
   "execution_count": 35,
   "id": "91ecd35c",
   "metadata": {},
   "outputs": [
    {
     "name": "stdout",
     "output_type": "stream",
     "text": [
      "The output should be formatted as a JSON instance that conforms to the JSON schema below.\n",
      "\n",
      "As an example, for the schema {\"properties\": {\"foo\": {\"title\": \"Foo\", \"description\": \"a list of strings\", \"type\": \"array\", \"items\": {\"type\": \"string\"}}}, \"required\": [\"foo\"]}\n",
      "the object {\"foo\": [\"bar\", \"baz\"]} is a well-formatted instance of the schema. The object {\"properties\": {\"foo\": [\"bar\", \"baz\"]}} is not well-formatted.\n",
      "\n",
      "Here is the output schema:\n",
      "```\n",
      "{\"properties\": {\"Topic\": {\"description\": \"selected topic\", \"title\": \"Topic\", \"type\": \"string\"}}, \"required\": [\"Topic\"]}\n",
      "```\n"
     ]
    }
   ],
   "source": [
    "from langchain.output_parsers import PydanticOutputParser\n",
    "class TopicSelectionParser(BaseModel):\n",
    "    Topic:str=Field(description=\"selected topic\")\n",
    "\n",
    "\n",
    "\n",
    "parser = PydanticOutputParser(pydantic_object=TopicSelectionParser)\n",
    "print(parser.get_format_instructions())"
   ]
  },
  {
   "cell_type": "code",
   "execution_count": null,
   "metadata": {},
   "outputs": [],
   "source": [
    "def supervisor_node(state: AgentState):\n",
    "\n",
    "    query = state[\"messages\"][-1]       \n",
    "    prompt = '''You are a decision-making AI assistant that selects the appropriate processing module for a user's question.\n",
    "\n",
    "Here are the available modules:\n",
    "\n",
    "1. \"LLM\" — Use for general-purpose generation, creative writing, or general conversational queries not related to 9/11 or requiring up-to-date information.\n",
    "\n",
    "2. \"RAG\" — Use ONLY if the question is specifically about the September 11, 2001 (9/11) attacks, including events, people, aftermath, or historical impact, as covered in internal documents.\n",
    "\n",
    "3. \"Web Crawler\" — Use if the question requires current events, recent news, live data, or anything not covered in internal documents.\n",
    "\n",
    "Respond ONLY with one of: LLM, RAG, or Web Crawler\n",
    "\n",
    "User Query: {user_input}\n",
    "{format_instructions}\n",
    "'''\n",
    "\n",
    "\n",
    "\n",
    "    template = ChatPromptTemplate.from_template(template=prompt, input_variable = [\"user_input\"],partial_variables = {\"format_instructions\": parser.get_format_instructions()})\n",
    "\n",
    "    chain = template|llm|parser\n",
    "    response = chain.invoke({\"user_input\": query})\n",
    "    print(f\"supervisor decides topic: {response.Topic}\")\n",
    "    return {\"messages\":[response.Topic]}"
   ]
  },
  {
   "cell_type": "code",
   "execution_count": 38,
   "metadata": {},
   "outputs": [],
   "source": [
    "def router(state: AgentState):\n",
    "    Topic = state[\"messages\"][-1]  # ✅ get actual message string\n",
    "    # print(f\"router state: {state}\")\n",
    "    \n",
    "    topic_lower = Topic.lower().strip()  # ✅ normalize\n",
    "\n",
    "    if topic_lower == \"rag\":\n",
    "        return \"RAG CALL\"\n",
    "    elif topic_lower == \"llm\":\n",
    "        return \"LLM CALL\"\n",
    "    else:\n",
    "        return \"Web Crawler CALL\"\n"
   ]
  },
  {
   "cell_type": "code",
   "execution_count": 18,
   "metadata": {},
   "outputs": [],
   "source": [
    "def llm_node(state: AgentState):\n",
    "    print(\"-> LLM Call ->\")\n",
    "    question = state[\"messages\"][0]\n",
    "    print(\"Question:\", question)\n",
    "\n",
    "    print(f\"state ata llm node :{state}\")\n",
    "    template = ChatPromptTemplate.from_template('''you are an ai assitant give answer based on the user query.\n",
    "    User Query: {question}\n",
    "    ''')\n",
    "\n",
    "    llmNodeChain = template | llm \n",
    "    response = llmNodeChain.invoke({\"question\":question})\n",
    "    return {\"messages\": [response.content]}"
   ]
  },
  {
   "cell_type": "code",
   "execution_count": null,
   "metadata": {},
   "outputs": [],
   "source": [
    "def rag_node(state: AgentState):\n",
    "    print(\"-> RAG Call ->\")\n",
    "    question = state[\"messages\"][0]\n",
    "    print(\"Question:\", question)\n",
    "    print(f\"state at rag node :{state}\")\n",
    "    \n",
    "    prompt = ChatPromptTemplate.from_template(\n",
    "        template=\"\"\"You are an assistant for question-answering tasks. Use the following pieces of retrieved context to answer the question. If you don't know the answer, just say that you don't know.\\nQuestion: {question} \\nContext: {context} \\nAnswer:\"\"\",\n",
    "    )\n",
    "    \n",
    "    rag_chain = (\n",
    "        {\"context\": retriever, \"question\": RunnablePassthrough()}\n",
    "        | prompt\n",
    "        | llm\n",
    "    )\n",
    "    \n",
    "    result = rag_chain.invoke(question)\n",
    "    return {\"messages\": [result.content]}"
   ]
  },
  {
   "cell_type": "code",
   "execution_count": 25,
   "id": "1ff80c34",
   "metadata": {},
   "outputs": [],
   "source": [
    "from langchain_community.utilities import SerpAPIWrapper\n",
    "def webcrawler_node(state: AgentState):\n",
    "    print(\"-> Web Crawler Call ->\")\n",
    "    question = state[\"messages\"][0]\n",
    "    print(\"Question:\", question)\n",
    "    print(f\"state at webcrawler_node :{state}\")\n",
    "    \n",
    "    search = SerpAPIWrapper(serpapi_api_key=os.getenv('serpapi_api_key'))\n",
    "    response = search.run(question)\n",
    "\n",
    "    \n",
    "    return {\"messages\": [response]}"
   ]
  },
  {
   "cell_type": "code",
   "execution_count": null,
   "metadata": {},
   "outputs": [],
   "source": [
    "\n",
    "class Validator(BaseModel):\n",
    "    validation: str = Field(description=\"validate and respond wiith 'Correct' or 'Not correct'\")\n",
    "\n",
    "validator_parser = PydanticOutputParser(pydantic_object=Validator)\n",
    "\n",
    "def validator(state: AgentState):\n",
    "    print(\"-> VALIDATOR ->\")\n",
    "    print(f\"validaotro agentstate {state}\")\n",
    "\n",
    "    \n",
    "    question =  state[\"messages\"][0]\n",
    "    response =  state[\"messages\"][-1]\n",
    "    \n",
    "    # Build the prompt\n",
    "    template = ChatPromptTemplate.from_template(\"\"\"\n",
    "You are a validator AI. Your task is to evaluate if the provided answer correctly answers the given question.\n",
    "\n",
    "Question: {question}\n",
    "Answer: {response}\n",
    "{format_instructions}\n",
    "\n",
    "Is the answer correct? Respond with Correct or Not correct and a short explanation.\n",
    "\"\"\", partial_variables={\"format_instructions\": validator_parser.get_format_instructions()})\n",
    "    \n",
    "    # Simple output parser\n",
    "    validator_chain = template | llm | validator_parser\n",
    "    \n",
    "    result = validator_chain.invoke({\"question\": question, \"response\": response})\n",
    "    \n",
    "    print(\"Validation response:\", result.validation)\n",
    "    return {\"messages\": [result.validation]}          \n"
   ]
  },
  {
   "cell_type": "code",
   "execution_count": 21,
   "metadata": {},
   "outputs": [],
   "source": [
    "def validator_router(state: AgentState):\n",
    "    print(\"-> VALIDATOR ROUTER ->\")\n",
    "    print(f\"state at validator_router: {state}\")\n",
    "    validation_result = state[\"messages\"][-1]\n",
    "    print(\"Validation result:\", validation_result)\n",
    "    return validation_result\n",
    "    "
   ]
  },
  {
   "cell_type": "code",
   "execution_count": 58,
   "metadata": {},
   "outputs": [],
   "source": [
    "def end_node(state: AgentState):\n",
    "    final_output = state[\"messages\"][-2]\n",
    "    print(\"-> END NODE ->\")\n",
    "    # print(f\"Final state: {state}\")\n",
    "    print(f\"final output--->: {final_output}\") # print(final_output)\n"
   ]
  },
  {
   "cell_type": "code",
   "execution_count": 59,
   "metadata": {},
   "outputs": [
    {
     "data": {
      "text/plain": [
       "<langgraph.graph.state.StateGraph at 0x201d610d8e0>"
      ]
     },
     "execution_count": 59,
     "metadata": {},
     "output_type": "execute_result"
    }
   ],
   "source": [
    "from langgraph.graph import StateGraph, END\n",
    "\n",
    "workflow = StateGraph(AgentState)\n",
    "\n",
    "workflow.add_node('supervisor', supervisor_node)\n",
    "workflow.add_node('RAG', rag_node)\n",
    "workflow.add_node('LLM', llm_node)\n",
    "workflow.add_node('Web Crawler', webcrawler_node)\n",
    "workflow.add_node('validator', validator)\n",
    "workflow.add_node('end_node', end_node)\n",
    "\n",
    "\n",
    "workflow.add_edge('LLM', 'validator')\n",
    "workflow.add_edge('RAG', 'validator')\n",
    "workflow.add_edge('Web Crawler', 'validator')\n",
    "\n",
    "\n",
    "\n",
    "workflow.add_conditional_edges(\"supervisor\", router, {\n",
    "                    # ✅ matches router output\n",
    "    \"RAG CALL\": \"RAG\",\n",
    "    \"LLM CALL\": \"LLM\",\n",
    "    \"Web Crawler CALL\": \"Web Crawler\"\n",
    "})\n",
    "\n",
    "\n",
    "workflow.add_conditional_edges(\n",
    "    \"validator\", \n",
    "    validator_router, \n",
    "    {\n",
    "        \"Correct\": 'end_node',\n",
    "        \"Not correct\": \"supervisor\"\n",
    "    }\n",
    ") \n",
    "workflow.set_entry_point('supervisor')\n",
    "\n",
    "# workflow.add_edge('validator', 'end_node')\n",
    "workflow.add_edge('end_node', END)\n"
   ]
  },
  {
   "cell_type": "code",
   "execution_count": 60,
   "metadata": {},
   "outputs": [
    {
     "data": {
      "image/png": "[encoded data removed]",
      "text/plain": [
       "<langgraph.graph.state.CompiledStateGraph object at 0x00000201D76DF800>"
      ]
     },
     "execution_count": 60,
     "metadata": {},
     "output_type": "execute_result"
    }
   ],
   "source": [
    "app=workflow.compile()\n",
    "app"
   ]
  },
  {
   "cell_type": "code",
   "execution_count": 61,
   "metadata": {},
   "outputs": [
    {
     "name": "stdout",
     "output_type": "stream",
     "text": [
      "response.Topic: RAG\n",
      "-> RAG Call ->\n",
      "Question: What happen in 9/11?\n",
      "state ata rag node :{'messages': ['What happen in 9/11?', 'RAG']}\n",
      "-> VALIDATOR ->\n",
      "validaotro agentstate {'messages': ['What happen in 9/11?', 'RAG', 'On September 11, 2001, a coordinated attack occurred in which four commercial airplanes were seized mid-flight shortly after takeoff. This event irrevocably changed the world and had significant implications for global politics and economics, leading to shocks in financial markets and declines in industries such as tourism and airlines, while boosting sectors like defense and cybersecurity.']}\n",
      "Validation result: <class '__main__.Validator'> validation='Correct'\n",
      "Validation response: Correct\n",
      "-> VALIDATOR ROUTER ->\n",
      "state at validator_router: {'messages': ['What happen in 9/11?', 'RAG', 'On September 11, 2001, a coordinated attack occurred in which four commercial airplanes were seized mid-flight shortly after takeoff. This event irrevocably changed the world and had significant implications for global politics and economics, leading to shocks in financial markets and declines in industries such as tourism and airlines, while boosting sectors like defense and cybersecurity.', 'Correct']}\n",
      "Validation result: Correct\n",
      "-> END NODE ->\n",
      "final output--->: On September 11, 2001, a coordinated attack occurred in which four commercial airplanes were seized mid-flight shortly after takeoff. This event irrevocably changed the world and had significant implications for global politics and economics, leading to shocks in financial markets and declines in industries such as tourism and airlines, while boosting sectors like defense and cybersecurity.\n"
     ]
    },
    {
     "data": {
      "text/plain": [
       "{'messages': ['What happen in 9/11?',\n",
       "  'RAG',\n",
       "  'On September 11, 2001, a coordinated attack occurred in which four commercial airplanes were seized mid-flight shortly after takeoff. This event irrevocably changed the world and had significant implications for global politics and economics, leading to shocks in financial markets and declines in industries such as tourism and airlines, while boosting sectors like defense and cybersecurity.',\n",
       "  'Correct']}"
      ]
     },
     "execution_count": 61,
     "metadata": {},
     "output_type": "execute_result"
    }
   ],
   "source": [
    "app.invoke({\"messages\": [\"What happen in 9/11?\"]})\n"
   ]
  },
  {
   "cell_type": "code",
   "execution_count": 62,
   "metadata": {},
   "outputs": [
    {
     "name": "stdout",
     "output_type": "stream",
     "text": [
      "response.Topic: LLM\n",
      "-> LLM Call ->\n",
      "Question: what is capital of india?\n",
      "state ata llm node :{'messages': ['what is capital of india?', 'LLM']}\n",
      "-> VALIDATOR ->\n",
      "validaotro agentstate {'messages': ['what is capital of india?', 'LLM', 'The capital of India is New Delhi.']}\n",
      "Validation result: <class '__main__.Validator'> validation='Correct'\n",
      "Validation response: Correct\n",
      "-> VALIDATOR ROUTER ->\n",
      "state at validator_router: {'messages': ['what is capital of india?', 'LLM', 'The capital of India is New Delhi.', 'Correct']}\n",
      "Validation result: Correct\n",
      "-> END NODE ->\n",
      "final output--->: The capital of India is New Delhi.\n"
     ]
    },
    {
     "data": {
      "text/plain": [
       "{'messages': ['what is capital of india?',\n",
       "  'LLM',\n",
       "  'The capital of India is New Delhi.',\n",
       "  'Correct']}"
      ]
     },
     "execution_count": 62,
     "metadata": {},
     "output_type": "execute_result"
    }
   ],
   "source": [
    "app.invoke({\"messages\": [\"what is capital of india?\"]})"
   ]
  },
  {
   "cell_type": "code",
   "execution_count": 63,
   "metadata": {},
   "outputs": [
    {
     "name": "stdout",
     "output_type": "stream",
     "text": [
      "response.Topic: Web Crawler\n",
      "-> Web Crawler Call ->\n",
      "Question: how ahmedabad flght got crashed on 12/06/2025\n",
      "state at webcrawler_node :{'messages': ['how ahmedabad flght got crashed on 12/06/2025', 'Web Crawler']}\n",
      "-> VALIDATOR ->\n",
      "validaotro agentstate {'messages': ['how ahmedabad flght got crashed on 12/06/2025', 'Web Crawler', [{'title': 'Air India Dreamliner crashes into Ahmedabad college hostel, kills over 240', 'link': 'https://www.reuters.com/world/india/plane-crashes-indias-ahmedabad-airport-tv-channels-report-2025-06-12/', 'source': 'Reuters', 'source_logo': 'https://serpapi.com/searches/684b9f8814537be732cfb1ec/images/4fa28c4bf318c66654bd0b2e64f1f56c4299442cd02ef50dfd370a5d9cd7c507.png', 'date': '4 hours ago', 'thumbnail': 'https://serpapi.com/searches/684b9f8814537be732cfb1ec/images/4fa28c4bf318c666edc45c04e03b7479f931e03ec8a93f52.jpeg'}, {'title': 'Live updates: Air India flight to London crashes with 242 on board', 'link': 'https://www.cnn.com/world/live-news/ahmedabad-india-plane-crash-06-12-25', 'source': 'CNN', 'source_logo': 'https://serpapi.com/searches/684b9f8814537be732cfb1ec/images/4fa28c4bf318c6666a677585b0137e2d12a97af7bd05337b1e60daf271694f97.png', 'date': '4 hours ago', 'thumbnail': 'https://serpapi.com/searches/684b9f8814537be732cfb1ec/images/4fa28c4bf318c666d5b0d1675139775fe69f2c7127cac680.jpeg'}, {'title': 'How the Air India plane came crashing to earth', 'link': 'https://www.cnn.com/2025/06/12/india/air-india-plane-crash-intl', 'source': 'CNN', 'source_logo': 'https://serpapi.com/searches/684b9f8814537be732cfb1ec/images/4fa28c4bf318c666c9bf36f93368f708927afb5b4050597d65f778d1cb3c4909.png', 'date': '6 hours ago', 'thumbnail': 'https://serpapi.com/searches/684b9f8814537be732cfb1ec/images/4fa28c4bf318c6660b91ce2f9edb0805e7cec0e10121ad22.jpeg'}, {'title': 'One survivor as 241 people killed in Air India plane crash, officials say', 'link': 'https://www.aljazeera.com/news/2025/6/12/air-india-plane-crashes-shortly-after-take-off-in-ahmedabad', 'source': 'Al Jazeera', 'source_logo': 'https://serpapi.com/searches/684b9f8814537be732cfb1ec/images/4fa28c4bf318c6668341a9ac725d1705cf0d78739f4d998872729316428110d4.png', 'date': '4 hours ago', 'thumbnail': 'https://serpapi.com/searches/684b9f8814537be732cfb1ec/images/4fa28c4bf318c666b480c7a1394e0173351268f3a84142ab.jpeg'}]]}\n",
      "Validation result: <class '__main__.Validator'> validation='Correct'\n",
      "Validation response: Correct\n",
      "-> VALIDATOR ROUTER ->\n",
      "state at validator_router: {'messages': ['how ahmedabad flght got crashed on 12/06/2025', 'Web Crawler', [{'title': 'Air India Dreamliner crashes into Ahmedabad college hostel, kills over 240', 'link': 'https://www.reuters.com/world/india/plane-crashes-indias-ahmedabad-airport-tv-channels-report-2025-06-12/', 'source': 'Reuters', 'source_logo': 'https://serpapi.com/searches/684b9f8814537be732cfb1ec/images/4fa28c4bf318c66654bd0b2e64f1f56c4299442cd02ef50dfd370a5d9cd7c507.png', 'date': '4 hours ago', 'thumbnail': 'https://serpapi.com/searches/684b9f8814537be732cfb1ec/images/4fa28c4bf318c666edc45c04e03b7479f931e03ec8a93f52.jpeg'}, {'title': 'Live updates: Air India flight to London crashes with 242 on board', 'link': 'https://www.cnn.com/world/live-news/ahmedabad-india-plane-crash-06-12-25', 'source': 'CNN', 'source_logo': 'https://serpapi.com/searches/684b9f8814537be732cfb1ec/images/4fa28c4bf318c6666a677585b0137e2d12a97af7bd05337b1e60daf271694f97.png', 'date': '4 hours ago', 'thumbnail': 'https://serpapi.com/searches/684b9f8814537be732cfb1ec/images/4fa28c4bf318c666d5b0d1675139775fe69f2c7127cac680.jpeg'}, {'title': 'How the Air India plane came crashing to earth', 'link': 'https://www.cnn.com/2025/06/12/india/air-india-plane-crash-intl', 'source': 'CNN', 'source_logo': 'https://serpapi.com/searches/684b9f8814537be732cfb1ec/images/4fa28c4bf318c666c9bf36f93368f708927afb5b4050597d65f778d1cb3c4909.png', 'date': '6 hours ago', 'thumbnail': 'https://serpapi.com/searches/684b9f8814537be732cfb1ec/images/4fa28c4bf318c6660b91ce2f9edb0805e7cec0e10121ad22.jpeg'}, {'title': 'One survivor as 241 people killed in Air India plane crash, officials say', 'link': 'https://www.aljazeera.com/news/2025/6/12/air-india-plane-crashes-shortly-after-take-off-in-ahmedabad', 'source': 'Al Jazeera', 'source_logo': 'https://serpapi.com/searches/684b9f8814537be732cfb1ec/images/4fa28c4bf318c6668341a9ac725d1705cf0d78739f4d998872729316428110d4.png', 'date': '4 hours ago', 'thumbnail': 'https://serpapi.com/searches/684b9f8814537be732cfb1ec/images/4fa28c4bf318c666b480c7a1394e0173351268f3a84142ab.jpeg'}], 'Correct']}\n",
      "Validation result: Correct\n",
      "-> END NODE ->\n",
      "final output--->: [{'title': 'Air India Dreamliner crashes into Ahmedabad college hostel, kills over 240', 'link': 'https://www.reuters.com/world/india/plane-crashes-indias-ahmedabad-airport-tv-channels-report-2025-06-12/', 'source': 'Reuters', 'source_logo': 'https://serpapi.com/searches/684b9f8814537be732cfb1ec/images/4fa28c4bf318c66654bd0b2e64f1f56c4299442cd02ef50dfd370a5d9cd7c507.png', 'date': '4 hours ago', 'thumbnail': 'https://serpapi.com/searches/684b9f8814537be732cfb1ec/images/4fa28c4bf318c666edc45c04e03b7479f931e03ec8a93f52.jpeg'}, {'title': 'Live updates: Air India flight to London crashes with 242 on board', 'link': 'https://www.cnn.com/world/live-news/ahmedabad-india-plane-crash-06-12-25', 'source': 'CNN', 'source_logo': 'https://serpapi.com/searches/684b9f8814537be732cfb1ec/images/4fa28c4bf318c6666a677585b0137e2d12a97af7bd05337b1e60daf271694f97.png', 'date': '4 hours ago', 'thumbnail': 'https://serpapi.com/searches/684b9f8814537be732cfb1ec/images/4fa28c4bf318c666d5b0d1675139775fe69f2c7127cac680.jpeg'}, {'title': 'How the Air India plane came crashing to earth', 'link': 'https://www.cnn.com/2025/06/12/india/air-india-plane-crash-intl', 'source': 'CNN', 'source_logo': 'https://serpapi.com/searches/684b9f8814537be732cfb1ec/images/4fa28c4bf318c666c9bf36f93368f708927afb5b4050597d65f778d1cb3c4909.png', 'date': '6 hours ago', 'thumbnail': 'https://serpapi.com/searches/684b9f8814537be732cfb1ec/images/4fa28c4bf318c6660b91ce2f9edb0805e7cec0e10121ad22.jpeg'}, {'title': 'One survivor as 241 people killed in Air India plane crash, officials say', 'link': 'https://www.aljazeera.com/news/2025/6/12/air-india-plane-crashes-shortly-after-take-off-in-ahmedabad', 'source': 'Al Jazeera', 'source_logo': 'https://serpapi.com/searches/684b9f8814537be732cfb1ec/images/4fa28c4bf318c6668341a9ac725d1705cf0d78739f4d998872729316428110d4.png', 'date': '4 hours ago', 'thumbnail': 'https://serpapi.com/searches/684b9f8814537be732cfb1ec/images/4fa28c4bf318c666b480c7a1394e0173351268f3a84142ab.jpeg'}]\n"
     ]
    },
    {
     "data": {
      "text/plain": [
       "{'messages': ['how ahmedabad flght got crashed on 12/06/2025',\n",
       "  'Web Crawler',\n",
       "  [{'title': 'Air India Dreamliner crashes into Ahmedabad college hostel, kills over 240',\n",
       "    'link': 'https://www.reuters.com/world/india/plane-crashes-indias-ahmedabad-airport-tv-channels-report-2025-06-12/',\n",
       "    'source': 'Reuters',\n",
       "    'source_logo': 'https://serpapi.com/searches/684b9f8814537be732cfb1ec/images/4fa28c4bf318c66654bd0b2e64f1f56c4299442cd02ef50dfd370a5d9cd7c507.png',\n",
       "    'date': '4 hours ago',\n",
       "    'thumbnail': 'https://serpapi.com/searches/684b9f8814537be732cfb1ec/images/4fa28c4bf318c666edc45c04e03b7479f931e03ec8a93f52.jpeg'},\n",
       "   {'title': 'Live updates: Air India flight to London crashes with 242 on board',\n",
       "    'link': 'https://www.cnn.com/world/live-news/ahmedabad-india-plane-crash-06-12-25',\n",
       "    'source': 'CNN',\n",
       "    'source_logo': 'https://serpapi.com/searches/684b9f8814537be732cfb1ec/images/4fa28c4bf318c6666a677585b0137e2d12a97af7bd05337b1e60daf271694f97.png',\n",
       "    'date': '4 hours ago',\n",
       "    'thumbnail': 'https://serpapi.com/searches/684b9f8814537be732cfb1ec/images/4fa28c4bf318c666d5b0d1675139775fe69f2c7127cac680.jpeg'},\n",
       "   {'title': 'How the Air India plane came crashing to earth',\n",
       "    'link': 'https://www.cnn.com/2025/06/12/india/air-india-plane-crash-intl',\n",
       "    'source': 'CNN',\n",
       "    'source_logo': 'https://serpapi.com/searches/684b9f8814537be732cfb1ec/images/4fa28c4bf318c666c9bf36f93368f708927afb5b4050597d65f778d1cb3c4909.png',\n",
       "    'date': '6 hours ago',\n",
       "    'thumbnail': 'https://serpapi.com/searches/684b9f8814537be732cfb1ec/images/4fa28c4bf318c6660b91ce2f9edb0805e7cec0e10121ad22.jpeg'},\n",
       "   {'title': 'One survivor as 241 people killed in Air India plane crash, officials say',\n",
       "    'link': 'https://www.aljazeera.com/news/2025/6/12/air-india-plane-crashes-shortly-after-take-off-in-ahmedabad',\n",
       "    'source': 'Al Jazeera',\n",
       "    'source_logo': 'https://serpapi.com/searches/684b9f8814537be732cfb1ec/images/4fa28c4bf318c6668341a9ac725d1705cf0d78739f4d998872729316428110d4.png',\n",
       "    'date': '4 hours ago',\n",
       "    'thumbnail': 'https://serpapi.com/searches/684b9f8814537be732cfb1ec/images/4fa28c4bf318c666b480c7a1394e0173351268f3a84142ab.jpeg'}],\n",
       "  'Correct']}"
      ]
     },
     "execution_count": 63,
     "metadata": {},
     "output_type": "execute_result"
    }
   ],
   "source": [
    "app.invoke({\"messages\": [\"how ahmedabad flght got crashed on 12/06/2025\"]})"
   ]
  },
  {
   "cell_type": "code",
   "execution_count": null,
   "metadata": {},
   "outputs": [],
   "source": []
  },
  {
   "cell_type": "code",
   "execution_count": null,
   "metadata": {},
   "outputs": [],
   "source": []
  },
  {
   "cell_type": "code",
   "execution_count": null,
   "metadata": {},
   "outputs": [],
   "source": []
  },
  {
   "cell_type": "code",
   "execution_count": null,
   "metadata": {},
   "outputs": [],
   "source": []
  },
  {
   "cell_type": "code",
   "execution_count": null,
   "metadata": {},
   "outputs": [],
   "source": []
  },
  {
   "cell_type": "code",
   "execution_count": null,
   "metadata": {},
   "outputs": [],
   "source": []
  },
  {
   "cell_type": "code",
   "execution_count": null,
   "metadata": {},
   "outputs": [],
   "source": []
  },
  {
   "cell_type": "code",
   "execution_count": null,
   "metadata": {},
   "outputs": [],
   "source": []
  },
  {
   "cell_type": "code",
   "execution_count": null,
   "metadata": {},
   "outputs": [],
   "source": []
  },
  {
   "cell_type": "code",
   "execution_count": null,
   "metadata": {},
   "outputs": [],
   "source": []
  },
  {
   "cell_type": "code",
   "execution_count": null,
   "metadata": {},
   "outputs": [],
   "source": []
  },
  {
   "cell_type": "code",
   "execution_count": null,
   "metadata": {},
   "outputs": [],
   "source": []
  },
  {
   "cell_type": "code",
   "execution_count": null,
   "metadata": {},
   "outputs": [],
   "source": []
  },
  {
   "cell_type": "code",
   "execution_count": null,
   "metadata": {},
   "outputs": [],
   "source": []
  },
  {
   "cell_type": "code",
   "execution_count": null,
   "id": "21902b4c",
   "metadata": {},
   "outputs": [],
   "source": []
  },
  {
   "cell_type": "code",
   "execution_count": null,
   "metadata": {},
   "outputs": [],
   "source": []
  },
  {
   "cell_type": "code",
   "execution_count": null,
   "metadata": {},
   "outputs": [],
   "source": []
  },
  {
   "cell_type": "code",
   "execution_count": null,
   "metadata": {},
   "outputs": [],
   "source": []
  },
  {
   "cell_type": "code",
   "execution_count": null,
   "metadata": {},
   "outputs": [],
   "source": []
  },
  {
   "cell_type": "code",
   "execution_count": null,
   "metadata": {},
   "outputs": [],
   "source": []
  },
  {
   "cell_type": "code",
   "execution_count": null,
   "metadata": {},
   "outputs": [],
   "source": []
  },
  {
   "cell_type": "code",
   "execution_count": null,
   "metadata": {},
   "outputs": [],
   "source": []
  },
  {
   "cell_type": "code",
   "execution_count": null,
   "metadata": {},
   "outputs": [],
   "source": []
  },
  {
   "cell_type": "code",
   "execution_count": null,
   "metadata": {},
   "outputs": [],
   "source": []
  },
  {
   "cell_type": "code",
   "execution_count": null,
   "metadata": {},
   "outputs": [],
   "source": []
  },
  {
   "cell_type": "code",
   "execution_count": null,
   "metadata": {},
   "outputs": [],
   "source": []
  },
  {
   "cell_type": "code",
   "execution_count": null,
   "metadata": {},
   "outputs": [],
   "source": []
  },
  {
   "cell_type": "code",
   "execution_count": null,
   "id": "341e1786",
   "metadata": {},
   "outputs": [],
   "source": []
  },
  {
   "cell_type": "code",
   "execution_count": null,
   "metadata": {},
   "outputs": [],
   "source": []
  },
  {
   "cell_type": "code",
   "execution_count": null,
   "id": "96a6cabe",
   "metadata": {},
   "outputs": [],
   "source": []
  },
  {
   "cell_type": "code",
   "execution_count": null,
   "metadata": {},
   "outputs": [],
   "source": []
  },
  {
   "cell_type": "code",
   "execution_count": null,
   "metadata": {},
   "outputs": [],
   "source": []
  },
  {
   "cell_type": "code",
   "execution_count": null,
   "metadata": {},
   "outputs": [],
   "source": []
  },
  {
   "cell_type": "code",
   "execution_count": null,
   "metadata": {},
   "outputs": [],
   "source": []
  }
 ],
 "metadata": {
  "kernelspec": {
   "display_name": "base",
   "language": "python",
   "name": "python3"
  },
  "language_info": {
   "codemirror_mode": {
    "name": "ipython",
    "version": 3
   },
   "file_extension": ".py",
   "mimetype": "text/x-python",
   "name": "python",
   "nbconvert_exporter": "python",
   "pygments_lexer": "ipython3",
   "version": "3.12.3"
  }
 },
 "nbformat": 4,
 "nbformat_minor": 5
}
